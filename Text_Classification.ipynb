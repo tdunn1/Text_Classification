{
 "cells": [
  {
   "cell_type": "code",
   "execution_count": 1,
   "id": "f43eaadd",
   "metadata": {},
   "outputs": [
    {
     "name": "stderr",
     "output_type": "stream",
     "text": [
      "C:\\Users\\Tim\\anaconda3\\envs\\tensor_env\\Lib\\site-packages\\tqdm\\auto.py:21: TqdmWarning: IProgress not found. Please update jupyter and ipywidgets. See https://ipywidgets.readthedocs.io/en/stable/user_install.html\n",
      "  from .autonotebook import tqdm as notebook_tqdm\n"
     ]
    }
   ],
   "source": [
    "import tensorflow as tf\n",
    "import tensorflow_datasets as tfds\n",
    "\n",
    "import numpy as np\n",
    "\n",
    "tfds.disable_progress_bar()"
   ]
  },
  {
   "cell_type": "code",
   "execution_count": 2,
   "id": "222d3253",
   "metadata": {},
   "outputs": [],
   "source": [
    "dataset, info = tfds.load('imdb_reviews', with_info = True, as_supervised = True)\n",
    "train_dataset, test_dataset = dataset['train'], dataset['test']"
   ]
  },
  {
   "cell_type": "code",
   "execution_count": 3,
   "id": "04c978a2",
   "metadata": {},
   "outputs": [
    {
     "data": {
      "text/plain": [
       "(TensorSpec(shape=(), dtype=tf.string, name=None),\n",
       " TensorSpec(shape=(), dtype=tf.int64, name=None))"
      ]
     },
     "execution_count": 3,
     "metadata": {},
     "output_type": "execute_result"
    }
   ],
   "source": [
    "train_dataset.element_spec"
   ]
  },
  {
   "cell_type": "code",
   "execution_count": 4,
   "id": "d812ad4a",
   "metadata": {},
   "outputs": [
    {
     "name": "stdout",
     "output_type": "stream",
     "text": [
      "text:  b\"This was an absolutely terrible movie. Don't be lured in by Christopher Walken or Michael Ironside. Both are great actors, but this must simply be their worst role in history. Even their great acting could not redeem this movie's ridiculous storyline. This movie is an early nineties US propaganda piece. The most pathetic scenes were those when the Columbian rebels were making their cases for revolutions. Maria Conchita Alonso appeared phony, and her pseudo-love affair with Walken was nothing but a pathetic emotional plug in a movie that was devoid of any real meaning. I am disappointed that there are movies like this, ruining actor's like Christopher Walken's good name. I could barely sit through it.\"\n",
      "label:  0\n"
     ]
    }
   ],
   "source": [
    "for example, label in train_dataset.take(1):\n",
    "    print('text: ', example.numpy())\n",
    "    print('label: ', label.numpy())"
   ]
  },
  {
   "cell_type": "code",
   "execution_count": 5,
   "id": "371fb915",
   "metadata": {},
   "outputs": [],
   "source": [
    "BUFFER_SIZE = 10000\n",
    "BATCH_SIZE = 64\n",
    "\n",
    "train_dataset = train_dataset.shuffle(BUFFER_SIZE).batch(BATCH_SIZE).prefetch(tf.data.AUTOTUNE)\n",
    "test_dataset = test_dataset.batch(BATCH_SIZE).prefetch(tf.data.AUTOTUNE)"
   ]
  },
  {
   "cell_type": "code",
   "execution_count": 6,
   "id": "222914ad",
   "metadata": {},
   "outputs": [
    {
     "name": "stdout",
     "output_type": "stream",
     "text": [
      "text:  [b'It is a rare occasion when I want to see a movie again. \"The Amati Girls\" is such a movie. In old time movie theaters I would have stayed put for more showings. Was this story autobiographical for the writer/director? It has the aura of reality.<br /><br />The all star cast present their characters believably and with tenderness. Who would not want Mercedes Ruehl as an older sister? I have loved her work since \"For Roseanna\".<br /><br />With most movies, one suspends belief because we know that it is the work of actors, producers, directors, sound technicians, etc. It was hard to suspend such belief in \"The Amati Girls\". One feels such a part of this family! How I wanted to come to the defense of Dolores when her family is stifling her emotional life. And wanted to cheer Lee Grant as she levels criticism at Cloris Leachman\\'s hair color. The humor throughout is not belly laugh humor, but instead has a feel-good quality that satisfies far more than pratfalls and such.<br /><br />The love that is portrayed in this cinema family is to be emulated and cherished.<br /><br />It is no coincidence that the family name, Amati, translated from the Italian means \\'the loved ones\\'.'\n",
      " b'I too have gone thru very painful personal loss (Twice) and this movie portrays the gut wrenching reality of that experience very well, Life out of balance, nothing makes sense, well meaning relatives, etc...<br /><br />It was nice to see Ally again. She is one of my all time favorite movie actors.<br /><br />I laughed and cried as the story unfolded. Great story and cast. Well done!'\n",
      " b\"I rented this thinking it might be interesting, and it might have been an interesting story except that is was told in such an uninteresting manner. Hard to follow, strange editing, disjointed storyline, the characters mumble, all in all a dreadfully dull waste of time. I just couldn't get into it and didn't care what happened to the characters - not even Ian Holm could save this film. Unless you need a cure for insomnia, I'd skip it. 3/10, and that's being generous.\"]\n",
      "\n",
      " labels:  [1 1 0]\n"
     ]
    }
   ],
   "source": [
    "for example, label in train_dataset.take(1):\n",
    "    print('text: ', example.numpy()[:3])\n",
    "    print('\\n','labels: ', label.numpy()[:3])"
   ]
  },
  {
   "cell_type": "code",
   "execution_count": 7,
   "id": "45f65398",
   "metadata": {},
   "outputs": [],
   "source": [
    "VOCAB_SIZE = 1000\n",
    "encoder = tf.keras.layers.TextVectorization(max_tokens = VOCAB_SIZE)\n",
    "encoder.adapt(train_dataset.map(lambda text, label: text))"
   ]
  },
  {
   "cell_type": "code",
   "execution_count": 8,
   "id": "9e97e4e1",
   "metadata": {},
   "outputs": [
    {
     "name": "stdout",
     "output_type": "stream",
     "text": [
      "['' '[UNK]' 'the' 'and' 'a' 'of' 'to' 'is' 'in' 'it' 'i' 'this' 'that'\n",
      " 'br' 'was' 'as' 'for' 'with' 'movie' 'but']\n"
     ]
    }
   ],
   "source": [
    "vocab = np.array(encoder.get_vocabulary())\n",
    "print(vocab[:20])"
   ]
  },
  {
   "cell_type": "code",
   "execution_count": 9,
   "id": "33961cda",
   "metadata": {},
   "outputs": [
    {
     "data": {
      "text/plain": [
       "array([[  9,   7,   4, ...,   0,   0,   0],\n",
       "       [ 10, 100,  26, ...,   0,   0,   0],\n",
       "       [ 10,   1,  11, ...,   0,   0,   0]], dtype=int64)"
      ]
     },
     "execution_count": 9,
     "metadata": {},
     "output_type": "execute_result"
    }
   ],
   "source": [
    "encoded_example = encoder(example)[:3].numpy()\n",
    "encoded_example"
   ]
  },
  {
   "cell_type": "code",
   "execution_count": 10,
   "id": "e88db35e",
   "metadata": {},
   "outputs": [
    {
     "name": "stdout",
     "output_type": "stream",
     "text": [
      "Original:  b'It is a rare occasion when I want to see a movie again. \"The Amati Girls\" is such a movie. In old time movie theaters I would have stayed put for more showings. Was this story autobiographical for the writer/director? It has the aura of reality.<br /><br />The all star cast present their characters believably and with tenderness. Who would not want Mercedes Ruehl as an older sister? I have loved her work since \"For Roseanna\".<br /><br />With most movies, one suspends belief because we know that it is the work of actors, producers, directors, sound technicians, etc. It was hard to suspend such belief in \"The Amati Girls\". One feels such a part of this family! How I wanted to come to the defense of Dolores when her family is stifling her emotional life. And wanted to cheer Lee Grant as she levels criticism at Cloris Leachman\\'s hair color. The humor throughout is not belly laugh humor, but instead has a feel-good quality that satisfies far more than pratfalls and such.<br /><br />The love that is portrayed in this cinema family is to be emulated and cherished.<br /><br />It is no coincidence that the family name, Amati, translated from the Italian means \\'the loved ones\\'.'\n",
      "Roundtrip:  it is a [UNK] [UNK] when i want to see a movie again the [UNK] girls is such a movie in old time movie [UNK] i would have [UNK] put for more [UNK] was this story [UNK] for the [UNK] it has the [UNK] of [UNK] br the all star cast present their characters [UNK] and with [UNK] who would not want [UNK] [UNK] as an older sister i have loved her work since for [UNK] br with most movies one [UNK] [UNK] because we know that it is the work of actors [UNK] directors sound [UNK] etc it was hard to [UNK] such [UNK] in the [UNK] girls one feels such a part of this family how i wanted to come to the [UNK] of [UNK] when her family is [UNK] her emotional life and wanted to [UNK] lee [UNK] as she [UNK] [UNK] at [UNK] [UNK] [UNK] [UNK] the humor throughout is not [UNK] laugh humor but instead has a [UNK] quality that [UNK] far more than [UNK] and [UNK] br the love that is portrayed in this cinema family is to be [UNK] and [UNK] br it is no [UNK] that the family name [UNK] [UNK] from the [UNK] means the loved ones                                                                                                                                                                                                                                                                                                                                                                                                                                                                                                                                                                                                                                                                                                                                                                                                                                 \n",
      "\n",
      "Original:  b'I too have gone thru very painful personal loss (Twice) and this movie portrays the gut wrenching reality of that experience very well, Life out of balance, nothing makes sense, well meaning relatives, etc...<br /><br />It was nice to see Ally again. She is one of my all time favorite movie actors.<br /><br />I laughed and cried as the story unfolded. Great story and cast. Well done!'\n",
      "Roundtrip:  i too have gone [UNK] very [UNK] personal [UNK] [UNK] and this movie [UNK] the [UNK] [UNK] reality of that experience very well life out of [UNK] nothing makes sense well [UNK] [UNK] [UNK] br it was nice to see [UNK] again she is one of my all time favorite movie [UNK] br i [UNK] and [UNK] as the story [UNK] great story and cast well done                                                                                                                                                                                                                                                                                                                                                                                                                                                                                                                                                                                                                                                                                                                                                                                                                                                                                                                                                                            \n",
      "\n",
      "Original:  b\"I rented this thinking it might be interesting, and it might have been an interesting story except that is was told in such an uninteresting manner. Hard to follow, strange editing, disjointed storyline, the characters mumble, all in all a dreadfully dull waste of time. I just couldn't get into it and didn't care what happened to the characters - not even Ian Holm could save this film. Unless you need a cure for insomnia, I'd skip it. 3/10, and that's being generous.\"\n",
      "Roundtrip:  i [UNK] this thinking it might be interesting and it might have been an interesting story except that is was told in such an [UNK] [UNK] hard to follow strange editing [UNK] storyline the characters [UNK] all in all a [UNK] dull waste of time i just couldnt get into it and didnt care what happened to the characters not even [UNK] [UNK] could save this film unless you need a [UNK] for [UNK] id [UNK] it [UNK] and thats being [UNK]                                                                                                                                                                                                                                                                                                                                                                                                                                                                                                                                                                                                                                                                                                                                                                                                                                                                                                                                                             \n",
      "\n"
     ]
    }
   ],
   "source": [
    "for n in range(3):\n",
    "    print('Original: ',example[n].numpy())\n",
    "    print('Roundtrip: ', ' '.join(vocab[encoded_example[n]]))\n",
    "    print('')"
   ]
  },
  {
   "cell_type": "code",
   "execution_count": 11,
   "id": "ddf9677f",
   "metadata": {},
   "outputs": [],
   "source": [
    "model = tf.keras.Sequential([\n",
    "    encoder,\n",
    "    tf.keras.layers.Embedding(input_dim = len(encoder.get_vocabulary()), output_dim = 64, mask_zero = True),\n",
    "    tf.keras.layers.LSTM(64),\n",
    "    tf.keras.layers.Dense(64, activation = 'relu'),\n",
    "    tf.keras.layers.Dense(1)\n",
    "])"
   ]
  },
  {
   "cell_type": "code",
   "execution_count": 12,
   "id": "abda977d",
   "metadata": {},
   "outputs": [
    {
     "name": "stdout",
     "output_type": "stream",
     "text": [
      "1/1 [==============================] - 3s 3s/step\n",
      "[-0.00029764]\n"
     ]
    }
   ],
   "source": [
    "sample_text = ('The movie was cool. The animation and the graphics '\n",
    "               'were out of this world. I would recommend this movie.')\n",
    "\n",
    "predictions = model.predict(np.array([sample_text]))\n",
    "print(predictions[0])"
   ]
  },
  {
   "cell_type": "code",
   "execution_count": 13,
   "id": "f85f7c64",
   "metadata": {},
   "outputs": [
    {
     "name": "stdout",
     "output_type": "stream",
     "text": [
      "1/1 [==============================] - 0s 248ms/step\n",
      "[-0.00029764]\n"
     ]
    }
   ],
   "source": [
    "padding = 'the '*2000\n",
    "predictions = model.predict(np.array([sample_text, padding]))\n",
    "print(predictions[0])"
   ]
  },
  {
   "cell_type": "code",
   "execution_count": 14,
   "id": "bfdd61f8",
   "metadata": {},
   "outputs": [],
   "source": [
    "model.compile(loss = tf.keras.losses.BinaryCrossentropy(from_logits = True), optimizer = tf.keras.optimizers.Adam(1e-4), metrics = ['accuracy'])"
   ]
  },
  {
   "cell_type": "code",
   "execution_count": null,
   "id": "40591ea0",
   "metadata": {},
   "outputs": [],
   "source": [
    "history = model.fit(train_dataset, epochs = 10, validation_data = test_dataset, validation_steps = 30)"
   ]
  },
  {
   "cell_type": "code",
   "execution_count": null,
   "id": "074d7f85",
   "metadata": {},
   "outputs": [],
   "source": []
  }
 ],
 "metadata": {
  "kernelspec": {
   "display_name": "Python 3 (ipykernel)",
   "language": "python",
   "name": "python3"
  },
  "language_info": {
   "codemirror_mode": {
    "name": "ipython",
    "version": 3
   },
   "file_extension": ".py",
   "mimetype": "text/x-python",
   "name": "python",
   "nbconvert_exporter": "python",
   "pygments_lexer": "ipython3",
   "version": "3.11.0"
  }
 },
 "nbformat": 4,
 "nbformat_minor": 5
}
